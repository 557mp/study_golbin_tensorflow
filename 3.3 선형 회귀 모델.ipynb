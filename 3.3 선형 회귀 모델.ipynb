{
 "cells": [
  {
   "cell_type": "code",
   "execution_count": 1,
   "metadata": {},
   "outputs": [],
   "source": [
    "x_data = [1,2,3]\n",
    "y_data = [1,2,3]"
   ]
  },
  {
   "cell_type": "code",
   "execution_count": 2,
   "metadata": {},
   "outputs": [
    {
     "name": "stderr",
     "output_type": "stream",
     "text": [
      "/Library/Frameworks/Python.framework/Versions/3.6/lib/python3.6/site-packages/h5py/__init__.py:36: FutureWarning: Conversion of the second argument of issubdtype from `float` to `np.floating` is deprecated. In future, it will be treated as `np.float64 == np.dtype(float).type`.\n",
      "  from ._conv import register_converters as _register_converters\n"
     ]
    }
   ],
   "source": [
    "#x와 y의 상관관계를 설명하기 위한 변수 W, b\n",
    "#uniform distribution 초기화\n",
    "import tensorflow as tf\n",
    "import numpy as np\n",
    "\n",
    "W = tf.Variable(tf.random_uniform([1], -1.0, 1.0))\n",
    "b = tf.Variable(tf.random_uniform([1], -1.0, 1.0))"
   ]
  },
  {
   "cell_type": "code",
   "execution_count": 3,
   "metadata": {},
   "outputs": [
    {
     "name": "stdout",
     "output_type": "stream",
     "text": [
      "Tensor(\"X:0\", dtype=float32)\n",
      "Tensor(\"Y:0\", dtype=float32)\n",
      "Tensor(\"Placeholder:0\", dtype=float32)\n"
     ]
    }
   ],
   "source": [
    "#자료 입력받을 플레이스 홀더\n",
    "X = tf.placeholder(tf.float32, name=\"X\")\n",
    "Y = tf.placeholder(tf.float32, name=\"Y\")\n",
    "\n",
    "###### 플레이스 홀더에 이름 추가하기 ######\n",
    "print(X)\n",
    "print(Y)\n",
    "#이름 없는 플레이스 홀더\n",
    "Z = tf.placeholder(tf.float32)\n",
    "print(Z)"
   ]
  },
  {
   "cell_type": "code",
   "execution_count": 4,
   "metadata": {},
   "outputs": [],
   "source": [
    "### 본격 선형 회귀 ###\n",
    "\n",
    "# linear 선형 관계\n",
    "# hypothesis:  W * X + b\n",
    "h = W * X + b\n",
    "\n",
    "# loss func. 손실 함수\n",
    "# 손실값: Y - hypothesis 의 제곱값\n",
    "# cost = 모든 데이터에 대한 손실값의 평균\n",
    "cost = tf.reduce_mean(tf.square(h - Y))\n",
    "\n",
    "#Gradient Descent\n",
    "optimizer = tf.train.GradientDescentOptimizer(learning_rate=0.1)\n",
    "train_op = optimizer.minimize(cost)"
   ]
  },
  {
   "cell_type": "code",
   "execution_count": 5,
   "metadata": {},
   "outputs": [
    {
     "name": "stdout",
     "output_type": "stream",
     "text": [
      "0 (cost_val) 3.0552623     (W) [0.6485733]     (b) [0.9956611]\n",
      "1 (cost_val) 0.16807015     (W) [0.5783071]     (b) [0.9370996]\n",
      "2 (cost_val) 0.12733218     (W) [0.5970473]     (b) [0.91835684]\n",
      "3 (cost_val) 0.12089259     (W) [0.6057937]     (b) [0.8958665]\n",
      "4 (cost_val) 0.11514538     (W) [0.61537296]     (b) [0.8743757]\n",
      "5 (cost_val) 0.10967585     (W) [0.62460786]     (b) [0.85335135]\n",
      "6 (cost_val) 0.10446615     (W) [0.6336333]     (b) [0.83283794]\n",
      "7 (cost_val) 0.09950393     (W) [0.6424404]     (b) [0.81281704]\n",
      "8 (cost_val) 0.09477743     (W) [0.65103585]     (b) [0.7932775]\n",
      "9 (cost_val) 0.09027544     (W) [0.6594247]     (b) [0.77420765]\n",
      "10 (cost_val) 0.08598733     (W) [0.66761196]     (b) [0.7555962]\n",
      "11 (cost_val) 0.08190288     (W) [0.6756024]     (b) [0.7374322]\n",
      "12 (cost_val) 0.078012384     (W) [0.68340063]     (b) [0.7197048]\n",
      "13 (cost_val) 0.07430675     (W) [0.6910114]     (b) [0.7024036]\n",
      "14 (cost_val) 0.07077711     (W) [0.69843936]     (b) [0.6855183]\n",
      "15 (cost_val) 0.06741515     (W) [0.70568866]     (b) [0.66903895]\n",
      "16 (cost_val) 0.06421288     (W) [0.71276367]     (b) [0.6529557]\n",
      "17 (cost_val) 0.06116273     (W) [0.7196686]     (b) [0.6372591]\n",
      "18 (cost_val) 0.058257435     (W) [0.7264076]     (b) [0.62193984]\n",
      "19 (cost_val) 0.055490166     (W) [0.73298454]     (b) [0.60698885]\n",
      "20 (cost_val) 0.05285437     (W) [0.7394034]     (b) [0.5923973]\n",
      "21 (cost_val) 0.050343763     (W) [0.745668]     (b) [0.5781565]\n",
      "22 (cost_val) 0.047952354     (W) [0.75178194]     (b) [0.564258]\n",
      "23 (cost_val) 0.045674603     (W) [0.7577489]     (b) [0.5506936]\n",
      "24 (cost_val) 0.04350503     (W) [0.7635725]     (b) [0.5374553]\n",
      "25 (cost_val) 0.041438494     (W) [0.769256]     (b) [0.52453524]\n",
      "26 (cost_val) 0.039470177     (W) [0.774803]     (b) [0.5119258]\n",
      "27 (cost_val) 0.03759531     (W) [0.7802166]     (b) [0.49961945]\n",
      "28 (cost_val) 0.0358095     (W) [0.7855]     (b) [0.48760894]\n",
      "29 (cost_val) 0.034108523     (W) [0.79065645]     (b) [0.47588715]\n",
      "30 (cost_val) 0.03248835     (W) [0.7956889]     (b) [0.46444717]\n",
      "31 (cost_val) 0.0309451     (W) [0.80060035]     (b) [0.45328215]\n",
      "32 (cost_val) 0.029475199     (W) [0.8053938]     (b) [0.44238555]\n",
      "33 (cost_val) 0.028075075     (W) [0.810072]     (b) [0.4317509]\n",
      "34 (cost_val) 0.026741503     (W) [0.8146377]     (b) [0.4213719]\n",
      "35 (cost_val) 0.025471255     (W) [0.81909376]     (b) [0.41124243]\n",
      "36 (cost_val) 0.024261354     (W) [0.8234426]     (b) [0.40135643]\n",
      "37 (cost_val) 0.023108924     (W) [0.8276869]     (b) [0.3917081]\n",
      "38 (cost_val) 0.022011235     (W) [0.8318292]     (b) [0.3822917]\n",
      "39 (cost_val) 0.020965673     (W) [0.8358719]     (b) [0.37310168]\n",
      "40 (cost_val) 0.019969804     (W) [0.83981746]     (b) [0.3641326]\n",
      "41 (cost_val) 0.019021222     (W) [0.84366816]     (b) [0.3553791]\n",
      "42 (cost_val) 0.018117718     (W) [0.84742624]     (b) [0.346836]\n",
      "43 (cost_val) 0.017257089     (W) [0.851094]     (b) [0.3384983]\n",
      "44 (cost_val) 0.016437376     (W) [0.85467356]     (b) [0.330361]\n",
      "45 (cost_val) 0.01565659     (W) [0.85816723]     (b) [0.3224194]\n",
      "46 (cost_val) 0.014912877     (W) [0.8615767]     (b) [0.31466863]\n",
      "47 (cost_val) 0.014204507     (W) [0.8649043]     (b) [0.30710423]\n",
      "48 (cost_val) 0.013529808     (W) [0.86815196]     (b) [0.2997217]\n",
      "49 (cost_val) 0.012887104     (W) [0.87132144]     (b) [0.29251656]\n",
      "50 (cost_val) 0.012274974     (W) [0.87441486]     (b) [0.28548467]\n",
      "51 (cost_val) 0.011691901     (W) [0.87743384]     (b) [0.2786218]\n",
      "52 (cost_val) 0.011136516     (W) [0.88038015]     (b) [0.27192387]\n",
      "53 (cost_val) 0.010607533     (W) [0.88325584]     (b) [0.26538706]\n",
      "54 (cost_val) 0.010103669     (W) [0.88606226]     (b) [0.2590073]\n",
      "55 (cost_val) 0.00962373     (W) [0.8888012]     (b) [0.25278094]\n",
      "56 (cost_val) 0.009166588     (W) [0.89147437]     (b) [0.24670427]\n",
      "57 (cost_val) 0.008731163     (W) [0.8940832]     (b) [0.24077365]\n",
      "58 (cost_val) 0.008316436     (W) [0.89662945]     (b) [0.23498565]\n",
      "59 (cost_val) 0.007921403     (W) [0.8991144]     (b) [0.22933674]\n",
      "60 (cost_val) 0.0075451285     (W) [0.9015396]     (b) [0.22382364]\n",
      "61 (cost_val) 0.007186728     (W) [0.9039065]     (b) [0.21844307]\n",
      "62 (cost_val) 0.006845355     (W) [0.90621656]     (b) [0.21319184]\n",
      "63 (cost_val) 0.006520199     (W) [0.90847105]     (b) [0.20806685]\n",
      "64 (cost_val) 0.0062104804     (W) [0.91067135]     (b) [0.20306505]\n",
      "65 (cost_val) 0.005915467     (W) [0.9128187]     (b) [0.19818348]\n",
      "66 (cost_val) 0.0056344904     (W) [0.9149145]     (b) [0.19341931]\n",
      "67 (cost_val) 0.005366855     (W) [0.91695994]     (b) [0.18876967]\n",
      "68 (cost_val) 0.005111921     (W) [0.91895616]     (b) [0.18423177]\n",
      "69 (cost_val) 0.004869101     (W) [0.9209044]     (b) [0.17980297]\n",
      "70 (cost_val) 0.0046378155     (W) [0.9228058]     (b) [0.17548062]\n",
      "71 (cost_val) 0.0044175107     (W) [0.92466146]     (b) [0.17126219]\n",
      "72 (cost_val) 0.0042076726     (W) [0.92647254]     (b) [0.16714516]\n",
      "73 (cost_val) 0.0040078103     (W) [0.9282401]     (b) [0.16312711]\n",
      "74 (cost_val) 0.0038174307     (W) [0.92996514]     (b) [0.15920563]\n",
      "75 (cost_val) 0.003636102     (W) [0.93164873]     (b) [0.15537843]\n",
      "76 (cost_val) 0.00346339     (W) [0.9332919]     (b) [0.15164326]\n",
      "77 (cost_val) 0.003298873     (W) [0.93489546]     (b) [0.14799784]\n",
      "78 (cost_val) 0.0031421718     (W) [0.9364606]     (b) [0.1444401]\n",
      "79 (cost_val) 0.0029929106     (W) [0.937988]     (b) [0.14096782]\n",
      "80 (cost_val) 0.0028507502     (W) [0.93947875]     (b) [0.13757907]\n",
      "81 (cost_val) 0.0027153455     (W) [0.9409337]     (b) [0.13427177]\n",
      "82 (cost_val) 0.002586355     (W) [0.9423535]     (b) [0.13104393]\n",
      "83 (cost_val) 0.002463504     (W) [0.94373935]     (b) [0.12789375]\n",
      "84 (cost_val) 0.0023464898     (W) [0.9450918]     (b) [0.12481926]\n",
      "85 (cost_val) 0.0022350214     (W) [0.9464117]     (b) [0.12181869]\n",
      "86 (cost_val) 0.002128855     (W) [0.9476999]     (b) [0.11889024]\n",
      "87 (cost_val) 0.0020277433     (W) [0.94895726]     (b) [0.11603223]\n",
      "88 (cost_val) 0.0019314187     (W) [0.9501843]     (b) [0.11324288]\n",
      "89 (cost_val) 0.0018396798     (W) [0.9513818]     (b) [0.11052059]\n",
      "90 (cost_val) 0.0017522868     (W) [0.95255053]     (b) [0.10786374]\n",
      "91 (cost_val) 0.0016690543     (W) [0.9536912]     (b) [0.10527078]\n",
      "92 (cost_val) 0.0015897732     (W) [0.9548044]     (b) [0.10274015]\n",
      "93 (cost_val) 0.0015142598     (W) [0.95589095]     (b) [0.10027037]\n",
      "94 (cost_val) 0.001442329     (W) [0.95695126]     (b) [0.09785992]\n",
      "95 (cost_val) 0.0013738181     (W) [0.9579861]     (b) [0.09550743]\n",
      "96 (cost_val) 0.0013085593     (W) [0.9589961]     (b) [0.0932115]\n",
      "97 (cost_val) 0.0012464024     (W) [0.9599818]     (b) [0.09097075]\n",
      "98 (cost_val) 0.0011872001     (W) [0.9609438]     (b) [0.08878389]\n",
      "99 (cost_val) 0.0011308007     (W) [0.96188265]     (b) [0.08664957]\n"
     ]
    }
   ],
   "source": [
    "# 실행\n",
    "\n",
    "sess= tf.Session()\n",
    "sess.run(tf.global_variables_initializer())\n",
    "\n",
    "for step in range(100):\n",
    "    _, cost_val = sess.run([train_op, cost], feed_dict = {X: x_data, Y:y_data})\n",
    "    print(step, '(cost_val)', cost_val, '    (W)', sess.run(W), '    (b)', sess.run(b))"
   ]
  },
  {
   "cell_type": "code",
   "execution_count": 6,
   "metadata": {},
   "outputs": [
    {
     "name": "stdout",
     "output_type": "stream",
     "text": [
      "X: 5,    Y: [4.896063]\n",
      "X: 2.5,    Y: [2.4913564]\n"
     ]
    }
   ],
   "source": [
    "# test\n",
    "# sess = tf.Session()\n",
    "# sess.run(tf.global_variables_initializer())\n",
    "print(\"X: 5,    Y:\", sess.run(h, feed_dict={X: 5}))\n",
    "print(\"X: 2.5,    Y:\", sess.run(h, feed_dict={X: 2.5}))\n"
   ]
  },
  {
   "cell_type": "code",
   "execution_count": 7,
   "metadata": {},
   "outputs": [
    {
     "data": {
      "image/png": "[encoded data removed]",
      "text/plain": [
       "<matplotlib.figure.Figure at 0x120add898>"
      ]
     },
     "metadata": {},
     "output_type": "display_data"
    }
   ],
   "source": [
    "import matplotlib.pyplot as plt\n",
    "\n",
    "# 주어진 데이터들을 점으로 표시\n",
    "plt.plot(x_data, y_data, 'ro')\n",
    "# 예측한 일차함수를 직선으로 표시\n",
    "plt.plot(x_data, sess.run(W) * x_data + sess.run(b), 'b')\n",
    "# X=5 일때의 계산 값\n",
    "plt.plot([5], sess.run(h, feed_dict={X:5}))\n",
    "plt.show()\n",
    "sess.close()"
   ]
  },
  {
   "cell_type": "code",
   "execution_count": 8,
   "metadata": {},
   "outputs": [
    {
     "name": "stdout",
     "output_type": "stream",
     "text": [
      "0 (cost_val) 19.434471     (W) [1.0803193]     (b) [0.32538003]\n",
      "1 (cost_val) 0.24051483     (W) [0.8752026]     (b) [0.2281763]\n",
      "2 (cost_val) 0.010841683     (W) [0.90040964]     (b) [0.23246]\n",
      "3 (cost_val) 0.007719667     (W) [0.9003767]     (b) [0.22580417]\n",
      "4 (cost_val) 0.007321852     (W) [0.90303683]     (b) [0.22049268]\n",
      "5 (cost_val) 0.0069736806     (W) [0.90533876]     (b) [0.21517941]\n",
      "6 (cost_val) 0.006642416     (W) [0.90761745]     (b) [0.21000803]\n",
      "7 (cost_val) 0.0063268933     (W) [0.90983796]     (b) [0.20495945]\n",
      "8 (cost_val) 0.006026361     (W) [0.9120054]     (b) [0.20003238]\n",
      "9 (cost_val) 0.0057401024     (W) [0.91412073]     (b) [0.19522373]\n",
      "X: 5,    Y: [4.7658277]\n",
      "X: 2.5,    Y: [2.4805257]\n"
     ]
    },
    {
     "data": {
      "image/png": "[encoded data removed]",
      "text/plain": [
       "<matplotlib.figure.Figure at 0x121ac7c88>"
      ]
     },
     "metadata": {},
     "output_type": "display_data"
    }
   ],
   "source": [
    "# 파이썬의 with 이용: 세션 블록을 만들고 자동으로 세션 종료.\n",
    "\n",
    "with tf.Session() as sess:\n",
    "    sess.run(tf.global_variables_initializer())\n",
    "    \n",
    "    for step in range(10):\n",
    "        _, cost_val = sess.run([train_op, cost], feed_dict = {X: x_data, Y:y_data})\n",
    "        print(step, '(cost_val)', cost_val, '    (W)', sess.run(W), '    (b)', sess.run(b))\n",
    "\n",
    "    #test\n",
    "    print(\"X: 5,    Y:\", sess.run(h, feed_dict={X: 5}))\n",
    "    print(\"X: 2.5,    Y:\", sess.run(h, feed_dict={X: 2.5}))\n",
    "    \n",
    "    # 주어진 데이터들을 점으로 표시\n",
    "    plt.plot(x_data, y_data, 'ro')\n",
    "    # 예측한 일차함수를 직선으로 표시\n",
    "    plt.plot(x_data, sess.run(W) * x_data + sess.run(b), 'b')\n",
    "    # X=5 일때의 계산 값\n",
    "    plt.plot([5], sess.run(h, feed_dict={X:5}))\n",
    "    plt.show()\n"
   ]
  }
 ],
 "metadata": {
  "kernelspec": {
   "display_name": "Python 3",
   "language": "python",
   "name": "python3"
  },
  "language_info": {
   "codemirror_mode": {
    "name": "ipython",
    "version": 3
   },
   "file_extension": ".py",
   "mimetype": "text/x-python",
   "name": "python",
   "nbconvert_exporter": "python",
   "pygments_lexer": "ipython3",
   "version": "3.6.3"
  }
 },
 "nbformat": 4,
 "nbformat_minor": 2
}
