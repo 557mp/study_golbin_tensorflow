{
 "cells": [
  {
   "cell_type": "code",
   "execution_count": 1,
   "metadata": {},
   "outputs": [
    {
     "name": "stderr",
     "output_type": "stream",
     "text": [
      "/Library/Frameworks/Python.framework/Versions/3.6/lib/python3.6/site-packages/h5py/__init__.py:36: FutureWarning: Conversion of the second argument of issubdtype from `float` to `np.floating` is deprecated. In future, it will be treated as `np.float64 == np.dtype(float).type`.\n",
      "  from ._conv import register_converters as _register_converters\n"
     ]
    },
    {
     "name": "stdout",
     "output_type": "stream",
     "text": [
      "Extracting ./mnist/data/train-images-idx3-ubyte.gz\n",
      "Extracting ./mnist/data/train-labels-idx1-ubyte.gz\n",
      "Extracting ./mnist/data/t10k-images-idx3-ubyte.gz\n",
      "Extracting ./mnist/data/t10k-labels-idx1-ubyte.gz\n"
     ]
    }
   ],
   "source": [
    "import numpy as np\n",
    "import tensorflow as tf\n",
    "\n",
    "from tensorflow.examples.tutorials.mnist import input_data\n",
    "mnist = input_data.read_data_sets(\"./mnist/data/\", one_hot=True)"
   ]
  },
  {
   "cell_type": "code",
   "execution_count": 2,
   "metadata": {},
   "outputs": [],
   "source": [
    "learning_rate=0.001\n",
    "total_epoch=10 #30\n",
    "batch_size=128"
   ]
  },
  {
   "cell_type": "code",
   "execution_count": 3,
   "metadata": {},
   "outputs": [],
   "source": [
    "# RNN은 sequential 이므로, 데이터를 몇 단계로 입력받을 지 설정해야 합니다.\n",
    "# 이 부분이 좀 아쉬운데, 예시때문에 mnist를 사용하긴 했지만,\n",
    "# NLP로 나중에 추가 예시를 공부하는 것이 좋을 것 같습니다.\n",
    "\n",
    "n_input=28\n",
    "n_step=28\n",
    "\n",
    "n_hidden=128\n",
    "n_class=10"
   ]
  },
  {
   "cell_type": "code",
   "execution_count": 4,
   "metadata": {},
   "outputs": [],
   "source": [
    "X = tf.placeholder(tf.float32, [None, n_step, n_input])\n",
    "Y = tf.placeholder(tf.float32, [None, n_class])\n",
    "\n",
    "W = tf.Variable(tf.random_normal([n_hidden, n_class])) # 왜 uniform으로 하지 않고 normal을 쓰는 것일까?\n",
    "b = tf.Variable(tf.random_normal([n_class]))"
   ]
  },
  {
   "cell_type": "markdown",
   "metadata": {},
   "source": [
    "RNN에 사용할 셀 생성"
   ]
  },
  {
   "cell_type": "code",
   "execution_count": 5,
   "metadata": {},
   "outputs": [],
   "source": [
    "# 신경망 구성을 위한 셀 구성\n",
    "# 다른 종류: BasicRNNCell, BasicLSTMCell, GPUCell, etc.\n",
    "# LSTM: 긴 학습데이터\n",
    "# GRU: Gated Recurrent Units, LSTM과 비슷하지만 구조가 좀 더 간단\n",
    "\n",
    "cell = tf.nn.rnn_cell.BasicRNNCell(n_hidden)"
   ]
  },
  {
   "cell_type": "markdown",
   "metadata": {},
   "source": [
    "RNN 신경망 생성"
   ]
  },
  {
   "cell_type": "code",
   "execution_count": 6,
   "metadata": {},
   "outputs": [],
   "source": [
    "outputs, states = tf.nn.dynamic_rnn(cell, X, dtype=tf.float32)\n",
    "\n",
    "# 신경망 생성이 chapter 4에서 처럼 생성과정이 필요하지만, 한 줄로 간략하게 가능하다.\n",
    "# RNN 신경망에 대한 공부를 하려면 검색해아 한다.\n",
    "# 간단하게 설명하지면,\n",
    "# states = tf.zeros(batch_size)\n",
    "# for i in range(n_step):\n",
    "#     outputs, states = cell(X[[:,i]], states)\n",
    "# ...\n",
    "#\n",
    "# i에 따라서 한 단계를 학습하고 그 다음상태를 입력에 다시 학습\n",
    "# 주어진 단계만큼 반복하게 상태를 전파하여 출력값을 도출해 내는 것이 RNN의 구조"
   ]
  },
  {
   "cell_type": "markdown",
   "metadata": {},
   "source": [
    "RNN 출력값 -> 최종 출력값\n",
    "\n",
    "결과를 원핫 인코딩형태로 할 것이므로 ouputs의 형태를 바꿔줘야 한다. <br>\n",
    "실측값(Y) 의 형태가, [batch_size, n_class] 이르모 동일하게 바꿔준다."
   ]
  },
  {
   "cell_type": "code",
   "execution_count": 8,
   "metadata": {},
   "outputs": [],
   "source": [
    "# with tf.Session as sess:\n",
    "#     sess.run(tf.global_variables_initializer())\n",
    "#     print(sess.run(outputs))\n",
    "# 형태를 찍어보고 싶은데.. 이렇게 하는 게 아닌가보다.. ㅠㅠㅠㅠ \n",
    "\n",
    "# outputs의 형태\n",
    "# [batch_size, n_step, n_hidden]\n",
    "\n",
    "outputs = tf.transpose(outputs, [1,0,2])\n",
    "# [n_step, batch_size, n_hidden]\n",
    "\n",
    "outputs = outputs[-1]\n",
    "# [batch_size, n_hidden]\n",
    "\n",
    "model = tf.matmul(outputs, W) + b"
   ]
  },
  {
   "cell_type": "markdown",
   "metadata": {},
   "source": [
    "모델과 실측값 비교하여 손손실 값을 구하고<br>\n",
    "신경망을 최적화"
   ]
  },
  {
   "cell_type": "code",
   "execution_count": 10,
   "metadata": {},
   "outputs": [],
   "source": [
    "cost = tf.reduce_mean(tf.nn.softmax_cross_entropy_with_logits(logits=model, labels=Y))\n",
    "optimizer = tf.train.AdamOptimizer(learning_rate).minimize(cost)\n",
    "\n",
    "# 이전에 배운 코드는 optimizer -> train_op로 바꿔서 했었는데.. 하나로 합치고 이름을 train_op가 아니다\n",
    "# 더 이상 cost의 최적화가 목적함수가 아니라는 것 같은데, 그렇다면 목적함수는 무엇인가?\n",
    "# (이전코드)\n",
    "# optimizer = tf.train.AdamOptimizer(learning_rate=0.01)\n",
    "# train_op = optimizer.minimize(cost, global_step=global_step)"
   ]
  },
  {
   "cell_type": "markdown",
   "metadata": {},
   "source": [
    "신경망 모델 학습"
   ]
  },
  {
   "cell_type": "code",
   "execution_count": null,
   "metadata": {},
   "outputs": [],
   "source": [
    "sess = tf.Session()\n",
    "sess.run(tf.global_variables_initializer())\n",
    "\n",
    "total_batch = int(mnist.train.num_examples/batch_size)\n",
    "# batch size의 의미 학습\n",
    "\n",
    "for epoch in range(total_epoch):\n",
    "    total_cost=0\n",
    "    \n",
    "    for i in range(total_batch):\n",
    "        batch_xs, batch_ys = mnist.train.next_batch(batch_size)\n",
    "        \n",
    "        # 입력 값(X)의 형태: [batch_size, n_step, n_input] \n",
    "        # batch_xs 의 형태도 바꿔줘야 한다.\n",
    "        batch_xs = batch_xs.reshape((batch_size, n_step, n_input))\n",
    "        \n",
    "        _, cost_val = sess.run([optimizer, cost], feed_dict={X: batch_xs, Y: batch_ys})\n",
    "        \n",
    "        total_cost += cost_val\n",
    "    \n",
    "    print('Epoch: %04d' % (epoch+1), 'Avg.cost = {:.3f}'.format(total_cost/total_batch))\n",
    "    \n",
    "print('최적화 완료')"
   ]
  },
  {
   "cell_type": "markdown",
   "metadata": {},
   "source": [
    "정확도 확인"
   ]
  },
  {
   "cell_type": "code",
   "execution_count": 18,
   "metadata": {},
   "outputs": [
    {
     "name": "stdout",
     "output_type": "stream",
     "text": [
      "accuracy:  97.729996\n"
     ]
    }
   ],
   "source": [
    "is_correct = tf.equal(tf.argmax(model,1), tf.argmax(Y,1))\n",
    "accuracy = tf.reduce_mean(tf.cast(is_correct, tf.float32))\n",
    "\n",
    "test_batch_size = len(mnist.test.images)\n",
    "test_xs = mnist.test.images.reshape(test_batch_size, n_step, n_input)\n",
    "test_ys = mnist.test.labels\n",
    "\n",
    "print('accuracy: ', sess.run(accuracy*100, feed_dict={X: test_xs, Y: test_ys}))"
   ]
  },
  {
   "cell_type": "code",
   "execution_count": 19,
   "metadata": {},
   "outputs": [],
   "source": [
    "# 모양의 변화\n",
    "# 즉, RNN 구조에 대한 행렬적 이해가 추가로 필요하다.\n",
    "# CNN을 잠시 건너뛰고 왔기 때문에 그런지 몰라도 batch 에 대한 부분은 이해가 잘 가지 않는다."
   ]
  }
 ],
 "metadata": {
  "kernelspec": {
   "display_name": "Python 3",
   "language": "python",
   "name": "python3"
  },
  "language_info": {
   "codemirror_mode": {
    "name": "ipython",
    "version": 3
   },
   "file_extension": ".py",
   "mimetype": "text/x-python",
   "name": "python",
   "nbconvert_exporter": "python",
   "pygments_lexer": "ipython3",
   "version": "3.6.3"
  }
 },
 "nbformat": 4,
 "nbformat_minor": 2
}
