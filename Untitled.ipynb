{
 "cells": [
  {
   "cell_type": "markdown",
   "metadata": {},
   "source": [
    "y = ReLU ( X* W + b)\n",
    "y: 출력\n",
    "X: 입력    \n",
    "\n",
    "ReLU: 활성화함수\n",
    "W: 가중치\n",
    "b: 편향치\n",
    "\n",
    "우리가 찾아야 하는 값: W, b\n",
    "\n",
    "기존 방법: 모든 조합의 경우의 수에 대해 가중치를 대입하고 계산\n",
    "역전파 방법: 결과의 값에서 생기는 오차를 이전(앞)으로 전파하면서 가중치를 계산\n",
    "> 추가로 공부할 것 : back-propagation"
   ]
  },
  {
   "cell_type": "code",
   "execution_count": null,
   "metadata": {},
   "outputs": [],
   "source": []
  }
 ],
 "metadata": {
  "kernelspec": {
   "display_name": "Python 3",
   "language": "python",
   "name": "python3"
  },
  "language_info": {
   "codemirror_mode": {
    "name": "ipython",
    "version": 3
   },
   "file_extension": ".py",
   "mimetype": "text/x-python",
   "name": "python",
   "nbconvert_exporter": "python",
   "pygments_lexer": "ipython3",
   "version": "3.6.3"
  }
 },
 "nbformat": 4,
 "nbformat_minor": 2
}
