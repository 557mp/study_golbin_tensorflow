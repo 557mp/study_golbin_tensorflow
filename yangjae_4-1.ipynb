{
 "cells": [
  {
   "cell_type": "code",
   "execution_count": 5,
   "metadata": {},
   "outputs": [],
   "source": [
    "# libraries\n",
    "import numpy as np\n",
    "import scipy as sp\n",
    "import scipy.stats\n",
    "import pandas as pd\n",
    "import matplotlib.pyplot as plt"
   ]
  },
  {
   "cell_type": "code",
   "execution_count": 6,
   "metadata": {},
   "outputs": [],
   "source": [
    "# a와 b의 1차원 매트릭스가 label 되어있을 때, a가 예측이고 b가 true값이라고 할 때, a와 b의 스코어를 매기는 함수이다.\n",
    "# table count\n",
    "def table_count(a,b):\n",
    "    c = []\n",
    "    ua = list(set(a))\n",
    "    ub = list(set(b))\n",
    "    a = np.array(a)\n",
    "    b = np.array(b)\n",
    "    for i in range(len(ua)):\n",
    "        for j in range(len(ub)):\n",
    "            c.append( sum((a==ua[i])&(b==ub[j])) )\n",
    "    c = np.array(c)\n",
    "    c = c.reshape((len(ua),len(ub)))\n",
    "    return c"
   ]
  },
  {
   "cell_type": "code",
   "execution_count": 22,
   "metadata": {},
   "outputs": [],
   "source": [
    "# model selection module\n",
    "from sklearn.model_selection import train_test_split\n",
    "from sklearn.discriminant_analysis import LinearDiscriminantAnalysis\n",
    "\n",
    "# read data\n",
    "df = pd.read_csv('/Users/mrfaith/Python3/data01_iris.csv')\n",
    "data = df.iloc[:,:-1].as_matrix()  #인덱스를 슬라이딩 인풋데이터와 target 데이터를 나눔\n",
    "target = df['Species'].factorize()[0]\n",
    "\n",
    "# random split\n",
    "X_train, X_test, y_train, y_test = train_test_split(\n",
    "        data, target, test_size=0.4, random_state=0)\n",
    "\n",
    "# X_train.shape, y_train.shape\n",
    "# X_test.shape, y_test.shape\n",
    "\n",
    "#df\n"
   ]
  },
  {
   "cell_type": "code",
   "execution_count": 23,
   "metadata": {},
   "outputs": [
    {
     "data": {
      "text/plain": [
       "0.9888888888888889"
      ]
     },
     "execution_count": 23,
     "metadata": {},
     "output_type": "execute_result"
    }
   ],
   "source": [
    "# LDA\n",
    "f = LinearDiscriminantAnalysis()\n",
    "f.fit(X_train,y_train)\n",
    "y_train_hat = f.predict(X_train)\n",
    "table_count(y_train,y_train_hat)\n",
    "f.score(X_train,y_train)"
   ]
  },
  {
   "cell_type": "code",
   "execution_count": 30,
   "metadata": {},
   "outputs": [
    {
     "data": {
      "text/plain": [
       "90"
      ]
     },
     "execution_count": 30,
     "metadata": {},
     "output_type": "execute_result"
    }
   ],
   "source": [
    "# leave-one-out \n",
    "from sklearn.model_selection import LeaveOneOut\n",
    "loo = LeaveOneOut()\n",
    "loo.get_n_splits(X_train)"
   ]
  },
  {
   "cell_type": "code",
   "execution_count": 34,
   "metadata": {},
   "outputs": [],
   "source": [
    "scv = []\n",
    "for train_idx, test_idx in loo.split(X_train):\n",
    "#     print('Train: ',train_idx,'Test: ',test_idx)\n",
    "    f.fit(X_train[train_idx,:],y_train[train_idx])\n",
    "    s = f.score(X_train[test_idx,:],y_train[test_idx])\n",
    "    scv.append(s)\n",
    "    \n",
    "# scv"
   ]
  },
  {
   "cell_type": "code",
   "execution_count": 37,
   "metadata": {},
   "outputs": [],
   "source": [
    "# K-fold CV\n",
    "from sklearn.model_selection import KFold\n",
    "kf = KFold(5)\n",
    "kf.get_n_splits()\n",
    "scv = []\n",
    "for train_idx, test_idx in kf.split(X_train):\n",
    "#     print('Train: ',train_idx,'Test: ',test_idx)\n",
    "    f.fit(X_train[train_idx,:],y_train[train_idx])\n",
    "    s = f.score(X_train[test_idx,:],y_train[test_idx])\n",
    "    scv.append(s)  "
   ]
  },
  {
   "cell_type": "code",
   "execution_count": 40,
   "metadata": {},
   "outputs": [
    {
     "data": {
      "text/plain": [
       "array([1.        , 1.        , 0.96551724])"
      ]
     },
     "execution_count": 40,
     "metadata": {},
     "output_type": "execute_result"
    }
   ],
   "source": [
    "# K-fold CV\n",
    "from sklearn.model_selection import cross_val_score\n",
    "f = LinearDiscriminantAnalysis()\n",
    "s = cross_val_score(f,X_train,y_train,cv=3)\n",
    "s"
   ]
  },
  {
   "cell_type": "code",
   "execution_count": 43,
   "metadata": {},
   "outputs": [],
   "source": [
    "# 데이터 전처리는 설명 패스하고\n",
    "# practice\n",
    "df = pd.read_csv('/Users/mrfaith/Python3/data07_iris.csv')\n",
    "train_idx = np.array(np.arange(0,30).tolist()+np.arange(50,80).tolist())\n",
    "test_idx = np.array(np.arange(30,50).tolist()+np.arange(80,100).tolist())\n",
    "xtrain = df.iloc[train_idx,:-1]\n",
    "ytrain = df.iloc[train_idx,-1]\n",
    "xtest = df.iloc[test_idx,:-1]\n",
    "ytest = df.iloc[test_idx,-1]"
   ]
  },
  {
   "cell_type": "code",
   "execution_count": 47,
   "metadata": {},
   "outputs": [],
   "source": [
    "from sklearn.model_selection import cross_val_score\n",
    "from sklearn.neighbors import KNeighborsClassifier\n",
    "s = np.zeros((40,3))\n",
    "for n in range(s.shape[0]):\n",
    "    f = KNeighborsClassifier(n+1) #n : 하이퍼 파라미터, 주위 가까운 n 개\n",
    "    f.fit(xtrain,ytrain)\n",
    "    s[n,0] = f.score(xtrain,ytrain)\n",
    "    s[n,1] = cross_val_score(f,xtrain,ytrain,cv=5).mean()\n",
    "    s[n,2] = f.score(xtest,ytest)\n",
    "    \n",
    "# s"
   ]
  },
  {
   "cell_type": "code",
   "execution_count": 49,
   "metadata": {},
   "outputs": [
    {
     "data": {
      "image/png": "[encoded data removed]",
      "text/plain": [
       "<matplotlib.figure.Figure at 0x11560e5f8>"
      ]
     },
     "metadata": {},
     "output_type": "display_data"
    }
   ],
   "source": [
    "plt.plot(np.arange(1,41),1-s,marker='o')\n",
    "plt.legend(('Train','CV','Test'))\n",
    "plt.show()\n",
    "# 가장 높은 값을 고려했을 때, CV를 따져서 하면 더 test에 근접한 값으로 .. 수 있다\n"
   ]
  }
 ],
 "metadata": {
  "kernelspec": {
   "display_name": "Python 3",
   "language": "python",
   "name": "python3"
  },
  "language_info": {
   "codemirror_mode": {
    "name": "ipython",
    "version": 3
   },
   "file_extension": ".py",
   "mimetype": "text/x-python",
   "name": "python",
   "nbconvert_exporter": "python",
   "pygments_lexer": "ipython3",
   "version": "3.6.3"
  }
 },
 "nbformat": 4,
 "nbformat_minor": 2
}
