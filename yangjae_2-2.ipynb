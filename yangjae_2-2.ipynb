{
 "cells": [
  {
   "cell_type": "code",
   "execution_count": 3,
   "metadata": {},
   "outputs": [
    {
     "name": "stdout",
     "output_type": "stream",
     "text": [
      "(1797, 64) (1797,)\n"
     ]
    },
    {
     "ename": "TypeError",
     "evalue": "'NoneType' object is not iterable",
     "output_type": "error",
     "traceback": [
      "\u001b[0;31m---------------------------------------------------------------------------\u001b[0m",
      "\u001b[0;31mTypeError\u001b[0m                                 Traceback (most recent call last)",
      "\u001b[0;32m<ipython-input-3-5fdf7de16015>\u001b[0m in \u001b[0;36m<module>\u001b[0;34m()\u001b[0m\n\u001b[1;32m     31\u001b[0m \u001b[0;34m\u001b[0m\u001b[0m\n\u001b[1;32m     32\u001b[0m \u001b[0;31m# 데이터를 학습용, 테스트용으로 분리합니다.\u001b[0m\u001b[0;34m\u001b[0m\u001b[0;34m\u001b[0m\u001b[0m\n\u001b[0;32m---> 33\u001b[0;31m \u001b[0mx_train\u001b[0m\u001b[0;34m,\u001b[0m \u001b[0mx_test\u001b[0m\u001b[0;34m,\u001b[0m \u001b[0my_train\u001b[0m\u001b[0;34m,\u001b[0m \u001b[0my_test\u001b[0m \u001b[0;34m=\u001b[0m \u001b[0;32mNone\u001b[0m\u001b[0;34m\u001b[0m\u001b[0m\n\u001b[0m\u001b[1;32m     34\u001b[0m \u001b[0;34m\u001b[0m\u001b[0m\n\u001b[1;32m     35\u001b[0m \u001b[0;34m\u001b[0m\u001b[0m\n",
      "\u001b[0;31mTypeError\u001b[0m: 'NoneType' object is not iterable"
     ]
    }
   ],
   "source": [
    "import numpy as np\n",
    "import matplotlib.pyplot as plt\n",
    "\n",
    "# 숫자 인식을 위한 데이터를 불러옵니다. \n",
    "from sklearn.datasets import load_digits\n",
    "# 학습용, 테스트용으로 분류하기 위한 함수를 불러옵니다.\n",
    "from sklearn.model_selection import train_test_split\n",
    "# Logistic 회귀분석을 위한 클래스를 불러옵니다. \n",
    "from sklearn.linear_model import LogisticRegression\n",
    "\n",
    "# 결과를 출력하기 위한 엘리스 유틸리티 툴을 불러옵니다.\n",
    "import elice_utils\n",
    "eu = elice_utils.EliceUtils()\n",
    "\n",
    "\n",
    "# sklearn의 내장 숫자 데이터를 load_digits 함수를 이용해 저장합니다.\n",
    "digits = load_digits()\n",
    "# 아래 주석을 해제하고 데이터를 확인하세요.\n",
    "print(digits.data.shape, digits.target.shape)\n",
    "\n",
    "# 데이터를 이미지로 출력합니다.\n",
    "plt.figure(figsize=(20,5))\n",
    "for index, (image, label) in enumerate(zip(digits.data[0:5], digits.target[0:5])):\n",
    "    plt.subplot(1, 5, index+1)\n",
    "    plt.imshow(np.reshape(image, (8, 8)), cmap=plt.cm.gray)\n",
    "    plt.title(\"Training: {}\\n\".format(label), fontsize=15)\n",
    "    \n",
    "plt.savefig(\"dataset.png\") \n",
    "eu.send_image(\"dataset.png\")\n",
    "\n",
    "\n",
    "# 데이터를 학습용, 테스트용으로 분리합니다.\n",
    "x_train, x_test, y_train, y_test = train_test_split(digits.data, digits.target, test_size=0.25, random_state=0)\n",
    "                                   \n",
    "\n",
    "# 아래 주석을 해제하고 학습용, 테스트용 데이터를 확인하세요.\n",
    "print(x_train.shape, y_train.shape)\n",
    "print(x_test.shape, y_test.shape)\n",
    "\n",
    "# Logistic 회귀분석 모델을 학습합니다.\n",
    "model = LogisticRegression()\n",
    "model.fit(x_train, y_train)\n",
    "\n",
    "# 모델의 예측값과 정확도를 저장합니다.\n",
    "predictions = model.predict(x_test)\n",
    "score = model.score(x_test, y_test)\n",
    "\n",
    "# 예측값, 실제값, 정확도를 출력합니다.\n",
    "print(\"Predicted:\", predictions[:10])\n",
    "print(\"Actual:\", y_test[:10])\n",
    "print(\"Score:\", score)\n",
    "\n",
    "\n",
    "# 잘못 분류된 데이터를 이미지로 출력합니다.\n",
    "index = 0\n",
    "misclassifiedIndexes = []\n",
    "for label, predict in zip(y_test, predictions):\n",
    "    if label != predict: \n",
    "        misclassifiedIndexes.append(index)\n",
    "    index +=1\n",
    "\n",
    "plt.figure(figsize=(20,5))\n",
    "for plotIndex, wrong in enumerate(misclassifiedIndexes[0:5]):\n",
    "    plt.subplot(1, 5, plotIndex + 1)\n",
    "    plt.imshow(np.reshape(x_test[wrong], (8,8)), cmap=plt.cm.gray)\n",
    "    plt.title(\"Predicted: {}, Actual: {}\".format(predictions[wrong], y_test[wrong]), fontsize = 15)\n",
    "    \n",
    "plt.savefig(\"misclassified.png\") \n",
    "eu.send_image(\"misclassified.png\")"
   ]
  }
 ],
 "metadata": {
  "kernelspec": {
   "display_name": "Python 3",
   "language": "python",
   "name": "python3"
  },
  "language_info": {
   "codemirror_mode": {
    "name": "ipython",
    "version": 3
   },
   "file_extension": ".py",
   "mimetype": "text/x-python",
   "name": "python",
   "nbconvert_exporter": "python",
   "pygments_lexer": "ipython3",
   "version": "3.6.3"
  }
 },
 "nbformat": 4,
 "nbformat_minor": 2
}
