{
 "cells": [
  {
   "cell_type": "code",
   "execution_count": 2,
   "metadata": {},
   "outputs": [
    {
     "name": "stdout",
     "output_type": "stream",
     "text": [
      "[{'trends': [{'name': '최저임금', 'url': 'http://twitter.com/search?q=%EC%B5%9C%EC%A0%80%EC%9E%84%EA%B8%88', 'promoted_content': None, 'query': '%EC%B5%9C%EC%A0%80%EC%9E%84%EA%B8%88', 'tweet_volume': 259719}, {'name': '청와대', 'url': 'http://twitter.com/search?q=%EC%B2%AD%EC%99%80%EB%8C%80', 'promoted_content': None, 'query': '%EC%B2%AD%EC%99%80%EB%8C%80', 'tweet_volume': 52480}, {'name': '새끼들', 'url': 'http://twitter.com/search?q=%EC%83%88%EB%81%BC%EB%93%A4', 'promoted_content': None, 'query': '%EC%83%88%EB%81%BC%EB%93%A4', 'tweet_volume': 49663}, {'name': '대통령님', 'url': 'http://twitter.com/search?q=%EB%8C%80%ED%86%B5%EB%A0%B9%EB%8B%98', 'promoted_content': None, 'query': '%EB%8C%80%ED%86%B5%EB%A0%B9%EB%8B%98', 'tweet_volume': 57000}, {'name': '켄드릭', 'url': 'http://twitter.com/search?q=%EC%BC%84%EB%93%9C%EB%A6%AD', 'promoted_content': None, 'query': '%EC%BC%84%EB%93%9C%EB%A6%AD', 'tweet_volume': None}, {'name': '돼지껍데기', 'url': 'http://twitter.com/search?q=%EB%8F%BC%EC%A7%80%EA%BB%8D%EB%8D%B0%EA%B8%B0', 'promoted_content': None, 'query': '%EB%8F%BC%EC%A7%80%EA%BB%8D%EB%8D%B0%EA%B8%B0', 'tweet_volume': None}, {'name': '안랩 주식', 'url': 'http://twitter.com/search?q=%22%EC%95%88%EB%9E%A9+%EC%A3%BC%EC%8B%9D%22', 'promoted_content': None, 'query': '%22%EC%95%88%EB%9E%A9+%EC%A3%BC%EC%8B%9D%22', 'tweet_volume': None}, {'name': '전과4범', 'url': 'http://twitter.com/search?q=%EC%A0%84%EA%B3%BC4%EB%B2%94', 'promoted_content': None, 'query': '%EC%A0%84%EA%B3%BC4%EB%B2%94', 'tweet_volume': 12705}, {'name': '귀족노조', 'url': 'http://twitter.com/search?q=%EA%B7%80%EC%A1%B1%EB%85%B8%EC%A1%B0', 'promoted_content': None, 'query': '%EA%B7%80%EC%A1%B1%EB%85%B8%EC%A1%B0', 'tweet_volume': None}, {'name': '김영란법', 'url': 'http://twitter.com/search?q=%EA%B9%80%EC%98%81%EB%9E%80%EB%B2%95', 'promoted_content': None, 'query': '%EA%B9%80%EC%98%81%EB%9E%80%EB%B2%95', 'tweet_volume': None}, {'name': '파비뉴', 'url': 'http://twitter.com/search?q=%ED%8C%8C%EB%B9%84%EB%89%B4', 'promoted_content': None, 'query': '%ED%8C%8C%EB%B9%84%EB%89%B4', 'tweet_volume': None}, {'name': '추가 대북제재', 'url': 'http://twitter.com/search?q=%22%EC%B6%94%EA%B0%80+%EB%8C%80%EB%B6%81%EC%A0%9C%EC%9E%AC%22', 'promoted_content': None, 'query': '%22%EC%B6%94%EA%B0%80+%EB%8C%80%EB%B6%81%EC%A0%9C%EC%9E%AC%22', 'tweet_volume': None}, {'name': '서초동살롱', 'url': 'http://twitter.com/search?q=%EC%84%9C%EC%B4%88%EB%8F%99%EC%82%B4%EB%A1%B1', 'promoted_content': None, 'query': '%EC%84%9C%EC%B4%88%EB%8F%99%EC%82%B4%EB%A1%B1', 'tweet_volume': None}, {'name': '비공개 문건', 'url': 'http://twitter.com/search?q=%22%EB%B9%84%EA%B3%B5%EA%B0%9C+%EB%AC%B8%EA%B1%B4%22', 'promoted_content': None, 'query': '%22%EB%B9%84%EA%B3%B5%EA%B0%9C+%EB%AC%B8%EA%B1%B4%22', 'tweet_volume': None}, {'name': '붉은정원', 'url': 'http://twitter.com/search?q=%EB%B6%89%EC%9D%80%EC%A0%95%EC%9B%90', 'promoted_content': None, 'query': '%EB%B6%89%EC%9D%80%EC%A0%95%EC%9B%90', 'tweet_volume': None}, {'name': '골프장 신축', 'url': 'http://twitter.com/search?q=%22%EA%B3%A8%ED%94%84%EC%9E%A5+%EC%8B%A0%EC%B6%95%22', 'promoted_content': None, 'query': '%22%EA%B3%A8%ED%94%84%EC%9E%A5+%EC%8B%A0%EC%B6%95%22', 'tweet_volume': None}, {'name': '경찰 조사', 'url': 'http://twitter.com/search?q=%22%EA%B2%BD%EC%B0%B0+%EC%A1%B0%EC%82%AC%22', 'promoted_content': None, 'query': '%22%EA%B2%BD%EC%B0%B0+%EC%A1%B0%EC%82%AC%22', 'tweet_volume': None}, {'name': '우만기', 'url': 'http://twitter.com/search?q=%EC%9A%B0%EB%A7%8C%EA%B8%B0', 'promoted_content': None, 'query': '%EC%9A%B0%EB%A7%8C%EA%B8%B0', 'tweet_volume': None}, {'name': '대마초', 'url': 'http://twitter.com/search?q=%EB%8C%80%EB%A7%88%EC%B4%88', 'promoted_content': None, 'query': '%EB%8C%80%EB%A7%88%EC%B4%88', 'tweet_volume': None}, {'name': '방시혁', 'url': 'http://twitter.com/search?q=%EB%B0%A9%EC%8B%9C%ED%98%81', 'promoted_content': None, 'query': '%EB%B0%A9%EC%8B%9C%ED%98%81', 'tweet_volume': 13613}, {'name': '재판거래', 'url': 'http://twitter.com/search?q=%EC%9E%AC%ED%8C%90%EA%B1%B0%EB%9E%98', 'promoted_content': None, 'query': '%EC%9E%AC%ED%8C%90%EA%B1%B0%EB%9E%98', 'tweet_volume': None}, {'name': '제조업', 'url': 'http://twitter.com/search?q=%EC%A0%9C%EC%A1%B0%EC%97%85', 'promoted_content': None, 'query': '%EC%A0%9C%EC%A1%B0%EC%97%85', 'tweet_volume': None}, {'name': '크리에이터', 'url': 'http://twitter.com/search?q=%ED%81%AC%EB%A6%AC%EC%97%90%EC%9D%B4%ED%84%B0', 'promoted_content': None, 'query': '%ED%81%AC%EB%A6%AC%EC%97%90%EC%9D%B4%ED%84%B0', 'tweet_volume': None}, {'name': '송인배', 'url': 'http://twitter.com/search?q=%EC%86%A1%EC%9D%B8%EB%B0%B0', 'promoted_content': None, 'query': '%EC%86%A1%EC%9D%B8%EB%B0%B0', 'tweet_volume': None}, {'name': '엠마스톤', 'url': 'http://twitter.com/search?q=%EC%97%A0%EB%A7%88%EC%8A%A4%ED%86%A4', 'promoted_content': None, 'query': '%EC%97%A0%EB%A7%88%EC%8A%A4%ED%86%A4', 'tweet_volume': None}, {'name': '비서관', 'url': 'http://twitter.com/search?q=%EB%B9%84%EC%84%9C%EA%B4%80', 'promoted_content': None, 'query': '%EB%B9%84%EC%84%9C%EA%B4%80', 'tweet_volume': None}, {'name': '자유로', 'url': 'http://twitter.com/search?q=%EC%9E%90%EC%9C%A0%EB%A1%9C', 'promoted_content': None, 'query': '%EC%9E%90%EC%9C%A0%EB%A1%9C', 'tweet_volume': None}, {'name': '기본급', 'url': 'http://twitter.com/search?q=%EA%B8%B0%EB%B3%B8%EA%B8%89', 'promoted_content': None, 'query': '%EA%B8%B0%EB%B3%B8%EA%B8%89', 'tweet_volume': 14541}, {'name': '양승태', 'url': 'http://twitter.com/search?q=%EC%96%91%EC%8A%B9%ED%83%9C', 'promoted_content': None, 'query': '%EC%96%91%EC%8A%B9%ED%83%9C', 'tweet_volume': 14387}, {'name': '베이컨', 'url': 'http://twitter.com/search?q=%EB%B2%A0%EC%9D%B4%EC%BB%A8', 'promoted_content': None, 'query': '%EB%B2%A0%EC%9D%B4%EC%BB%A8', 'tweet_volume': 23158}, {'name': '탐라 포지션', 'url': 'http://twitter.com/search?q=%22%ED%83%90%EB%9D%BC+%ED%8F%AC%EC%A7%80%EC%85%98%22', 'promoted_content': None, 'query': '%22%ED%83%90%EB%9D%BC+%ED%8F%AC%EC%A7%80%EC%85%98%22', 'tweet_volume': None}, {'name': '이승우', 'url': 'http://twitter.com/search?q=%EC%9D%B4%EC%8A%B9%EC%9A%B0', 'promoted_content': None, 'query': '%EC%9D%B4%EC%8A%B9%EC%9A%B0', 'tweet_volume': None}, {'name': '노동자들', 'url': 'http://twitter.com/search?q=%EB%85%B8%EB%8F%99%EC%9E%90%EB%93%A4', 'promoted_content': None, 'query': '%EB%85%B8%EB%8F%99%EC%9E%90%EB%93%A4', 'tweet_volume': 70803}, {'name': '#HappyJihoonDay', 'url': 'http://twitter.com/search?q=%23HappyJihoonDay', 'promoted_content': None, 'query': '%23HappyJihoonDay', 'tweet_volume': 723077}, {'name': '미도스지', 'url': 'http://twitter.com/search?q=%EB%AF%B8%EB%8F%84%EC%8A%A4%EC%A7%80', 'promoted_content': None, 'query': '%EB%AF%B8%EB%8F%84%EC%8A%A4%EC%A7%80', 'tweet_volume': None}, {'name': '최저시급', 'url': 'http://twitter.com/search?q=%EC%B5%9C%EC%A0%80%EC%8B%9C%EA%B8%89', 'promoted_content': None, 'query': '%EC%B5%9C%EC%A0%80%EC%8B%9C%EA%B8%89', 'tweet_volume': None}, {'name': '온두라스', 'url': 'http://twitter.com/search?q=%EC%98%A8%EB%91%90%EB%9D%BC%EC%8A%A4', 'promoted_content': None, 'query': '%EC%98%A8%EB%91%90%EB%9D%BC%EC%8A%A4', 'tweet_volume': None}, {'name': '문선민', 'url': 'http://twitter.com/search?q=%EB%AC%B8%EC%84%A0%EB%AF%BC', 'promoted_content': None, 'query': '%EB%AC%B8%EC%84%A0%EB%AF%BC', 'tweet_volume': None}, {'name': '#LYTear1onBB200', 'url': 'http://twitter.com/search?q=%23LYTear1onBB200', 'promoted_content': None, 'query': '%23LYTear1onBB200', 'tweet_volume': 925533}, {'name': '트레이드', 'url': 'http://twitter.com/search?q=%ED%8A%B8%EB%A0%88%EC%9D%B4%EB%93%9C', 'promoted_content': None, 'query': '%ED%8A%B8%EB%A0%88%EC%9D%B4%EB%93%9C', 'tweet_volume': None}, {'name': '통상임금', 'url': 'http://twitter.com/search?q=%ED%86%B5%EC%83%81%EC%9E%84%EA%B8%88', 'promoted_content': None, 'query': '%ED%86%B5%EC%83%81%EC%9E%84%EA%B8%88', 'tweet_volume': 10009}, {'name': '복리후생비', 'url': 'http://twitter.com/search?q=%EB%B3%B5%EB%A6%AC%ED%9B%84%EC%83%9D%EB%B9%84', 'promoted_content': None, 'query': '%EB%B3%B5%EB%A6%AC%ED%9B%84%EC%83%9D%EB%B9%84', 'tweet_volume': 15980}, {'name': '마나미', 'url': 'http://twitter.com/search?q=%EB%A7%88%EB%82%98%EB%AF%B8', 'promoted_content': None, 'query': '%EB%A7%88%EB%82%98%EB%AF%B8', 'tweet_volume': None}, {'name': '주휴수당', 'url': 'http://twitter.com/search?q=%EC%A3%BC%ED%9C%B4%EC%88%98%EB%8B%B9', 'promoted_content': None, 'query': '%EC%A3%BC%ED%9C%B4%EC%88%98%EB%8B%B9', 'tweet_volume': 10013}, {'name': '비정규직', 'url': 'http://twitter.com/search?q=%EB%B9%84%EC%A0%95%EA%B7%9C%EC%A7%81', 'promoted_content': None, 'query': '%EB%B9%84%EC%A0%95%EA%B7%9C%EC%A7%81', 'tweet_volume': 16352}, {'name': '메이지유신', 'url': 'http://twitter.com/search?q=%EB%A9%94%EC%9D%B4%EC%A7%80%EC%9C%A0%EC%8B%A0', 'promoted_content': None, 'query': '%EB%A9%94%EC%9D%B4%EC%A7%80%EC%9C%A0%EC%8B%A0', 'tweet_volume': None}, {'name': '박주민', 'url': 'http://twitter.com/search?q=%EB%B0%95%EC%A3%BC%EB%AF%BC', 'promoted_content': None, 'query': '%EB%B0%95%EC%A3%BC%EB%AF%BC', 'tweet_volume': None}, {'name': '블러셔', 'url': 'http://twitter.com/search?q=%EB%B8%94%EB%9F%AC%EC%85%94', 'promoted_content': None, 'query': '%EB%B8%94%EB%9F%AC%EC%85%94', 'tweet_volume': None}], 'as_of': '2018-05-29T02:17:25Z', 'created_at': '2018-05-29T02:09:36Z', 'locations': [{'name': 'Seoul', 'woeid': 1132599}]}]\n"
     ]
    }
   ],
   "source": [
    "import tweepy\n",
    "import numpy as np\n",
    " \n",
    "consumerKey = \"dmar2WYJUAIkp8rVFc6v0ltN9\"\n",
    "consumerSecret = \"lqczHgeI3iGGOZIOc3s75Uuqzf6mnlxqN8YQCC2TkA7wDTjMQ2\"\n",
    "accessToken = \"249548145-lJ8ip1gr2qAj7a2m6dszVwb3S8J3UjTDQsn3VjlB\"\n",
    "accessTokenSecret = \"htYn8lpGP6CGMTFzZ32uXNnBY1dKAq11rG4fKr3poCiFl\"\n",
    " \n",
    "auth = tweepy.OAuthHandler(consumerKey, consumerSecret)\n",
    "auth.set_access_token(accessToken, accessTokenSecret)\n",
    "api = tweepy.API(auth)\n",
    " \n",
    "tw_trends=api.trends_place(1132599)\n",
    "print(tw_trends)\n",
    "# class StdOutListener(tweepy.streaming.StreamListener):\n",
    "#     ''' Handles data received from the stream. '''\n",
    "#     def on_status(self, status):\n",
    "#         print status.__dict__\n",
    "#         return True\n",
    " \n",
    "#     def on_error(self, status_code):\n",
    "#         print('Got an error with status code: ' + str(status_code))\n",
    "#         return True # To continue listening\n",
    " \n",
    "#     def on_timeout(self):\n",
    "#         print('Timeout...')\n",
    "#         return True # To continue listening\n",
    "    \n",
    "# if __name__ == '__main__':\n",
    "#     listener = StdOutListener()\n",
    "#     auth = tweepy.OAuthHandler(consumerKey, consumerSecret)\n",
    "#     auth.set_access_token(accessToken, accessTokenSecret)\n",
    "#     stream = tweepy.streaming.Stream(auth, listener)\n",
    "#     stream.filter(track=[\"#Quora\"])\n"
   ]
  }
 ],
 "metadata": {
  "kernelspec": {
   "display_name": "Python 3",
   "language": "python",
   "name": "python3"
  },
  "language_info": {
   "codemirror_mode": {
    "name": "ipython",
    "version": 3
   },
   "file_extension": ".py",
   "mimetype": "text/x-python",
   "name": "python",
   "nbconvert_exporter": "python",
   "pygments_lexer": "ipython3",
   "version": "3.6.3"
  }
 },
 "nbformat": 4,
 "nbformat_minor": 2
}
