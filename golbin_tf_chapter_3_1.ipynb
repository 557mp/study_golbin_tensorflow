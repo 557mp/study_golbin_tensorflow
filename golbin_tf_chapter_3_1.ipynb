{
 "cells": [
  {
   "cell_type": "markdown",
   "metadata": {},
   "source": [
    "3.1 텐서와 그래프 실행"
   ]
  },
  {
   "cell_type": "code",
   "execution_count": 45,
   "metadata": {},
   "outputs": [],
   "source": [
    "import numpy as np\n",
    "import tensorflow as tf"
   ]
  },
  {
   "cell_type": "code",
   "execution_count": 46,
   "metadata": {},
   "outputs": [
    {
     "name": "stdout",
     "output_type": "stream",
     "text": [
      "Tensor(\"Const_32:0\", shape=(), dtype=string)\n"
     ]
    }
   ],
   "source": [
    "hello = tf.constant('Hello tf?')\n",
    "print(hello)"
   ]
  },
  {
   "cell_type": "code",
   "execution_count": 47,
   "metadata": {},
   "outputs": [
    {
     "name": "stdout",
     "output_type": "stream",
     "text": [
      "Tensor(\"Const_33:0\", shape=(), dtype=int32) \n",
      " Tensor(\"Const_34:0\", shape=(), dtype=int32) \n",
      " Tensor(\"Add_15:0\", shape=(), dtype=int32)\n"
     ]
    }
   ],
   "source": [
    "a = tf.constant(10)\n",
    "b = tf.constant(22)\n",
    "b2 = tf.constant(20)\n",
    "c = tf.add(a,b)\n",
    "c2 = tf.add(c,b2)\n",
    "print(a,'\\n',b,'\\n',c)"
   ]
  },
  {
   "cell_type": "code",
   "execution_count": 48,
   "metadata": {},
   "outputs": [
    {
     "name": "stdout",
     "output_type": "stream",
     "text": [
      "b'Hello tf?'\n"
     ]
    }
   ],
   "source": [
    "sess = tf.Session()\n",
    "d = sess.run(hello)\n",
    "print(d)"
   ]
  },
  {
   "cell_type": "code",
   "execution_count": 49,
   "metadata": {},
   "outputs": [
    {
     "name": "stdout",
     "output_type": "stream",
     "text": [
      "[52, 32]\n"
     ]
    }
   ],
   "source": [
    "print(sess.run([c2,c]))\n",
    "sess.close()"
   ]
  },
  {
   "cell_type": "markdown",
   "metadata": {},
   "source": [
    "3.2 플레이스 홀더와 변수"
   ]
  },
  {
   "cell_type": "code",
   "execution_count": 54,
   "metadata": {},
   "outputs": [
    {
     "name": "stdout",
     "output_type": "stream",
     "text": [
      "Tensor(\"Placeholder_3:0\", shape=(?, 3), dtype=float32)\n"
     ]
    }
   ],
   "source": [
    "X = tf.placeholder(tf.float32, [None, 3])\n",
    "print(X)"
   ]
  },
  {
   "cell_type": "code",
   "execution_count": 97,
   "metadata": {},
   "outputs": [],
   "source": [
    "x_data = [[1,2,3],[4,5,6]]\n",
    "\n",
    "# W = tf.Variable(tf.random_normal([3,2])) #[3,2] 행렬형태에 정규분포 값을 넣어준다.\n",
    "# b = tf.Variable(tf.random_normal([2,1]))\n",
    "\n",
    "W = tf.Variable([[1.,1.],[2.,3.],[1.,5.]])\n",
    "b = tf.Variable([[3.],[7.]])"
   ]
  },
  {
   "cell_type": "code",
   "execution_count": 98,
   "metadata": {},
   "outputs": [],
   "source": [
    "#행렬 변수를 계산 tf.matmul\n",
    "expr = tf.matmul(X,W) + b"
   ]
  },
  {
   "cell_type": "code",
   "execution_count": 99,
   "metadata": {},
   "outputs": [
    {
     "name": "stdout",
     "output_type": "stream",
     "text": [
      "[[1, 2, 3], [4, 5, 6]] \n",
      "\n",
      "[[1. 1.]\n",
      " [2. 3.]\n",
      " [1. 5.]] \n",
      "\n",
      "[[3.]\n",
      " [7.]] \n",
      "\n",
      "[[11. 25.]\n",
      " [27. 56.]] \n",
      "\n"
     ]
    }
   ],
   "source": [
    "sess = tf.Session()\n",
    "sess.run(tf.global_variables_initializer()) #앞서 정의한 변수들을 초기화. 기존에 학습한 값이 아니라면 필요.  ***이해 안 감***\n",
    "\n",
    "print(x_data, '\\n')\n",
    "print(sess.run(W), '\\n')\n",
    "print(sess.run(b), '\\n')\n",
    "print(sess.run(expr, feed_dict={X:x_data}), '\\n') #X가 플레이스 홀더. 미리 정해둔 x_data를 X의 값으로 함.  ***이해 안 감***\n",
    "\n",
    "sess.close()"
   ]
  }
 ],
 "metadata": {
  "kernelspec": {
   "display_name": "Python 3",
   "language": "python",
   "name": "python3"
  },
  "language_info": {
   "codemirror_mode": {
    "name": "ipython",
    "version": 3
   },
   "file_extension": ".py",
   "mimetype": "text/x-python",
   "name": "python",
   "nbconvert_exporter": "python",
   "pygments_lexer": "ipython3",
   "version": "3.6.3"
  }
 },
 "nbformat": 4,
 "nbformat_minor": 2
}
