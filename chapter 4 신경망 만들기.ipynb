{
 "cells": [
  {
   "cell_type": "code",
   "execution_count": 1,
   "metadata": {},
   "outputs": [
    {
     "name": "stderr",
     "output_type": "stream",
     "text": [
      "/Library/Frameworks/Python.framework/Versions/3.6/lib/python3.6/site-packages/h5py/__init__.py:36: FutureWarning: Conversion of the second argument of issubdtype from `float` to `np.floating` is deprecated. In future, it will be treated as `np.float64 == np.dtype(float).type`.\n",
      "  from ._conv import register_converters as _register_converters\n"
     ]
    }
   ],
   "source": [
    "import numpy as np\n",
    "import tensorflow as tf"
   ]
  },
  {
   "cell_type": "code",
   "execution_count": 2,
   "metadata": {},
   "outputs": [
    {
     "name": "stdout",
     "output_type": "stream",
     "text": [
      "[[0 0]\n",
      " [1 0]\n",
      " [1 1]\n",
      " [0 0]\n",
      " [0 0]\n",
      " [0 1]]\n"
     ]
    }
   ],
   "source": [
    "#input data (feature)\n",
    "#feature(특징1, 특징2)\n",
    "x_data = np.array(\n",
    "[ [0,0], [1,0], [1,1], [0,0], [0,0], [0,1] ]\n",
    ")\n",
    "print(x_data)"
   ]
  },
  {
   "cell_type": "code",
   "execution_count": 20,
   "metadata": {},
   "outputs": [],
   "source": [
    "#one-hot encoding\n",
    "#classfication\n",
    "#실측값\n",
    "\n",
    "#기타=0, 포유류=1, 조류=2\n",
    "# 기타 = [1, 0, 0]\n",
    "# 포유류 = [0, 1, 0]\n",
    "# 조류 = [0, 0, 1]\n",
    "y_data = np.array([\n",
    "    [1,0,0],\n",
    "    [0,1,0],\n",
    "    [0,0,1],\n",
    "    [1,0,0],\n",
    "    [1,0,0],\n",
    "    [0,1,0]\n",
    "])"
   ]
  },
  {
   "cell_type": "code",
   "execution_count": 4,
   "metadata": {},
   "outputs": [],
   "source": [
    "############## 신경망 구성 ##############\n",
    "# 손실값 구하는 내용은 아직 없음\n",
    "X = tf.placeholder(tf.float32, name='X')\n",
    "Y = tf.placeholder(tf.float32, name='Y')\n",
    "\n",
    "### 가중치와 편향(bias) 설정\n",
    "### W: [ 입력층(feature 수), 출력층(결과 label 수)]\n",
    "### 구성이기 때문에 [2,3] 으로 나타낸다.\n",
    "W = tf.Variable(tf.random_uniform([2,3], -1., 1.))\n",
    "b = tf.Variable(tf.zeros([3]))\n",
    "\n",
    "L = tf.add(tf.matmul(X,W), b)\n",
    "L = tf.nn.relu(L)"
   ]
  },
  {
   "cell_type": "markdown",
   "metadata": {},
   "source": [
    "신경망 구성은 다음과 비슷하다. <br/>\n",
    "모든 입력값으로부터 가중치를 곱한 값과 +b 를 하여 활성화 함수를 거치면 출력 값이 나온다. <br/>\n",
    "<img src=\"https://deeplearning4j.org/img/multiple_inputs_RBM.png\">\n",
    "출처: https://deeplearning4j.org/kr/restrictedboltzmannmachine"
   ]
  },
  {
   "cell_type": "code",
   "execution_count": 5,
   "metadata": {},
   "outputs": [],
   "source": [
    "# 출력 값을 사용하기 쉽게 다듬어 주는 과정이라고 한다.\n",
    "model = tf.nn.softmax(L)\n",
    "\n",
    "# softmax , 배열내 값들의 합이 1이 되도록 만들어준다.\n",
    "# 즉, 각각의 확률이라고 볼 수 있다.\n",
    "# 책에서 예시는, [8.04, 2.76, -6.52] --> [0.52, 0.24, 0.23]\n",
    "\n",
    "# model은 신경망을 통해 나온 예측값이며,\n",
    "# 코드에서 예시는, [1,0,0] --> [0.1 0.7 0.2]       [0,1,0] --> [0.2 0.8 0.0]"
   ]
  },
  {
   "cell_type": "code",
   "execution_count": 6,
   "metadata": {},
   "outputs": [],
   "source": [
    "# cost function\n",
    "# Cross-Entropy: 원핫 인코딩과 쿵짝이 좋다.\n",
    "\n",
    "cost = tf.reduce_mean(-tf.reduce_sum(Y * tf.log(model), axis=1))\n",
    "\n",
    "# 실측값 Y [0,0,1] 에 대하여,\n",
    "# 예측값 model 이, [0.1 0.6 0.3] 이라면\n",
    "# tf.log(model)\n",
    "# [-1.0, -0.2, -0.5]\n",
    "# Y * tf.log(model)\n",
    "# [0 , 0 , -0.5]\n",
    "# 모두 합쳐서 양수로 바꾼 뒤 평균을 냄\n",
    "#######\n",
    "# 예측값이 0.6 일때 (vs. 0.3 일때)\n",
    "# 실측값 1\n",
    "# log(model): -0.2 (vs. -0.5)\n",
    "# 로그의 인수가 0~1사이의 값이면, 값이 클 수록 log값(절대값)이 작다.\n",
    "# 따라서 예측값 확률이 높을 수록 cost가 낮게 측정하는 것이다.˙\n"
   ]
  },
  {
   "cell_type": "code",
   "execution_count": 7,
   "metadata": {},
   "outputs": [
    {
     "name": "stdout",
     "output_type": "stream",
     "text": [
      "10 1.0374199\n",
      "20 1.0353928\n",
      "30 1.0334154\n",
      "40 1.0315528\n",
      "50 1.0296687\n",
      "60 1.0278932\n",
      "70 1.0260978\n",
      "80 1.0244088\n",
      "90 1.0226866\n",
      "100 1.0210732\n"
     ]
    }
   ],
   "source": [
    "optimizer = tf.train.GradientDescentOptimizer(learning_rate=0.01)\n",
    "train_op = optimizer.minimize(cost)\n",
    "\n",
    "init = tf.global_variables_initializer()\n",
    "sess = tf.Session()\n",
    "sess.run(init)\n",
    "\n",
    "for step in range(100):\n",
    "    sess.run(train_op, feed_dict={X: x_data, Y: y_data})\n",
    "    \n",
    "    if (step + 1) % 10 == 0:\n",
    "        print(step + 1, sess.run(cost, feed_dict={X: x_data, Y: y_data}))"
   ]
  },
  {
   "cell_type": "code",
   "execution_count": 8,
   "metadata": {},
   "outputs": [
    {
     "name": "stdout",
     "output_type": "stream",
     "text": [
      "hypothesis:  [1 2 1 1 1 1]\n",
      "real value:  [0 1 2 0 0 1]\n"
     ]
    }
   ],
   "source": [
    "prediction = tf.argmax(model, axis=1)\n",
    "target = tf.argmax(Y, axis=1)\n",
    "print('hypothesis: ', sess.run(prediction, feed_dict={X: x_data}))\n",
    "print('real value: ', sess.run(target, feed_dict={Y: y_data}))"
   ]
  },
  {
   "cell_type": "code",
   "execution_count": 9,
   "metadata": {},
   "outputs": [
    {
     "name": "stdout",
     "output_type": "stream",
     "text": [
      "[[0.33324483 0.33351034 0.33324483]\n",
      " [0.1862249  0.32051554 0.49325964]\n",
      " [0.14630799 0.46741745 0.38627458]\n",
      " [0.33324483 0.33351034 0.33324483]\n",
      " [0.33324483 0.33351034 0.33324483]\n",
      " [0.27237466 0.47674468 0.25088063]]\n"
     ]
    }
   ],
   "source": [
    "print(sess.run(model, feed_dict={X: x_data})) #prediction"
   ]
  },
  {
   "cell_type": "code",
   "execution_count": 10,
   "metadata": {},
   "outputs": [
    {
     "name": "stdout",
     "output_type": "stream",
     "text": [
      "correction rate: 16.67\n"
     ]
    }
   ],
   "source": [
    "is_correct = tf.equal(prediction, target)\n",
    "accuracy = tf.reduce_mean(tf.cast(is_correct, tf.float32))\n",
    "print('correction rate: %.2f' % sess.run(accuracy * 100, feed_dict={X: x_data, Y: y_data}))"
   ]
  },
  {
   "cell_type": "markdown",
   "metadata": {},
   "source": [
    "신경망 늘리기"
   ]
  },
  {
   "cell_type": "code",
   "execution_count": 11,
   "metadata": {},
   "outputs": [],
   "source": [
    "W1 = tf.Variable(tf.random_uniform([2,10], -1., 1.))\n",
    "W2 = tf.Variable(tf.random_uniform([10,3], -1., 1.))\n",
    "\n",
    "b1 = tf.Variable(tf.zeros([10]))\n",
    "b2 = tf.Variable(tf.zeros([3]))"
   ]
  },
  {
   "cell_type": "code",
   "execution_count": 12,
   "metadata": {},
   "outputs": [],
   "source": [
    "L1 = tf.add(tf.matmul(X, W1), b1)\n",
    "L1 = tf.nn.relu(L1)\n",
    "\n",
    "model = tf.add(tf.matmul(L1,W2), b2)"
   ]
  },
  {
   "cell_type": "markdown",
   "metadata": {},
   "source": [
    "cost 함수"
   ]
  },
  {
   "cell_type": "code",
   "execution_count": 13,
   "metadata": {},
   "outputs": [
    {
     "name": "stdout",
     "output_type": "stream",
     "text": [
      "WARNING:tensorflow:From <ipython-input-13-830d1aaff523>:1: softmax_cross_entropy_with_logits (from tensorflow.python.ops.nn_ops) is deprecated and will be removed in a future version.\n",
      "Instructions for updating:\n",
      "\n",
      "Future major versions of TensorFlow will allow gradients to flow\n",
      "into the labels input on backprop by default.\n",
      "\n",
      "See tf.nn.softmax_cross_entropy_with_logits_v2.\n",
      "\n"
     ]
    }
   ],
   "source": [
    "cost = tf.reduce_mean(tf.nn.softmax_cross_entropy_with_logits(labels=Y, logits=model))\n",
    "\n",
    "optimizer = tf.train.AdamOptimizer(learning_rate=0.01)\n",
    "train_op = optimizer.minimize(cost)"
   ]
  },
  {
   "cell_type": "markdown",
   "metadata": {},
   "source": [
    "위 단일 신경망과 동일"
   ]
  },
  {
   "cell_type": "code",
   "execution_count": 17,
   "metadata": {},
   "outputs": [
    {
     "name": "stdout",
     "output_type": "stream",
     "text": [
      "10 0.8206773\n",
      "20 0.7035122\n",
      "30 0.58778024\n",
      "40 0.4585402\n",
      "50 0.33666432\n",
      "60 0.23452663\n",
      "70 0.1576798\n",
      "80 0.10604661\n",
      "90 0.07353888\n",
      "100 0.05358805\n",
      "prediction:  [0 1 2 0 0 1]\n",
      "target(real value):  [0 1 2 0 0 1]\n",
      "correction rate: 100.00\n"
     ]
    }
   ],
   "source": [
    "init = tf.global_variables_initializer()\n",
    "sess = tf.Session()\n",
    "sess.run(init)\n",
    "\n",
    "for step in range(100):\n",
    "    sess.run(train_op, feed_dict={X: x_data, Y: y_data})\n",
    "    \n",
    "    if (step+1)%10==0:\n",
    "        print(step+1, sess.run(cost, feed_dict={X: x_data, Y: y_data}))\n",
    "        \n",
    "prediction = tf.argmax(model, axis=1)\n",
    "target = tf.argmax(Y, axis=1)\n",
    "print('prediction: ', sess.run(prediction, feed_dict={X: x_data}))\n",
    "print('target(real value): ', sess.run(target, feed_dict={Y: y_data}))\n",
    "\n",
    "is_correct = tf.equal(prediction, target)\n",
    "accuracy = tf.reduce_mean(tf.cast(is_correct, tf.float32))\n",
    "print('correction rate: %.2f' %sess.run(accuracy * 100, feed_dict={X: x_data, Y: y_data}))"
   ]
  },
  {
   "cell_type": "markdown",
   "metadata": {},
   "source": [
    "여기서도 확인을 해봅시다.. (책 내용에 없음)"
   ]
  },
  {
   "cell_type": "code",
   "execution_count": 19,
   "metadata": {},
   "outputs": [
    {
     "name": "stdout",
     "output_type": "stream",
     "text": [
      "X:[[1,1],[0,0],[1,0],[0,1],[1,1]], Y:  [2 0 1 1 2]\n"
     ]
    }
   ],
   "source": [
    "print('X:[[1,1],[0,0],[1,0],[0,1],[1,1]], Y: ', sess.run(prediction, feed_dict={X: [[1,1],[0,0],[1,0],[0,1],[1,1]]}))"
   ]
  }
 ],
 "metadata": {
  "kernelspec": {
   "display_name": "Python 3",
   "language": "python",
   "name": "python3"
  },
  "language_info": {
   "codemirror_mode": {
    "name": "ipython",
    "version": 3
   },
   "file_extension": ".py",
   "mimetype": "text/x-python",
   "name": "python",
   "nbconvert_exporter": "python",
   "pygments_lexer": "ipython3",
   "version": "3.6.3"
  }
 },
 "nbformat": 4,
 "nbformat_minor": 2
}
