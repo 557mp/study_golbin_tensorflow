{
 "cells": [
  {
   "cell_type": "code",
   "execution_count": 3,
   "metadata": {},
   "outputs": [
    {
     "name": "stdout",
     "output_type": "stream",
     "text": [
      "Loss: 46.341726\n"
     ]
    }
   ],
   "source": [
    "# 실습에 필요한 라이브러리를 불러옵니다.\n",
    "import matplotlib as mpl\n",
    "mpl.use(\"Agg\")\n",
    "import matplotlib.pyplot as plt\n",
    "import numpy as np\n",
    "\n",
    "# 결과를 출력하기 위한 엘리스 유틸리티 툴을 불러옵니다.\n",
    "#import elice_utils\n",
    "#eu = elice_utils.EliceUtils()\n",
    "\n",
    "\n",
    "# x, y, beta_0, beta_1 을 이용해 loss 값을 계산합니다. #함수는 y=ax+b의 형태라고 가정합니다. (가설)\n",
    "def loss(x, y, beta_0, beta_1):\n",
    "    N = len(x)\n",
    "    y = np.array(y)\n",
    "    \n",
    "    error=0\n",
    "    for i in range(N):\n",
    "        error+=np.square(y[i]-(beta_0*x[i]+beta_1))\n",
    "\n",
    "    return error\n",
    "\n",
    "\n",
    "# 실습에 사용되는 데이터입니다.\n",
    "X = [8.70153760, 3.90825773, 1.89362433, 3.28730045, 7.39333004, 2.98984649, 2.25757240, 9.84450732, 9.94589513, 5.48321616]\n",
    "Y = [5.64413093, 3.75876583, 3.87233310, 4.40990425, 6.43845020, 4.02827829, 2.26105955, 7.15768995, 6.29097441, 5.19692852]\n",
    "\n",
    "\n",
    "# 기울기와 절편이 1, 0.5일 때 Loss를 계산합니다.\n",
    "beta_0 = 1\n",
    "beta_1 = 0.5\n",
    "\n",
    "# 결과를 출력합니다. \n",
    "print(\"Loss: %f\" % loss(X, Y, beta_0, beta_1))\n",
    "\n",
    "# 데이터와 y = beta_0 * x + beta_1 에 해당하는 선을 표시합니다. \n",
    "plt.scatter(X, Y)\n",
    "plt.plot([0, 10], [beta_1, 10 * beta_0 + beta_1], c='r')\n",
    "\n",
    " # 그래프의 X, Y축을 설정합니다.\n",
    "plt.xlim(0, 10)\n",
    "plt.ylim(0, 10)\n",
    "\n",
    "# 엘리스에 이미지를 출력합니다.\n",
    "plt.savefig(\"test.png\") \n",
    "#eu.send_image(\"test.png\")"
   ]
  },
  {
   "cell_type": "code",
   "execution_count": null,
   "metadata": {},
   "outputs": [],
   "source": []
  }
 ],
 "metadata": {
  "kernelspec": {
   "display_name": "Python 3",
   "language": "python",
   "name": "python3"
  },
  "language_info": {
   "codemirror_mode": {
    "name": "ipython",
    "version": 3
   },
   "file_extension": ".py",
   "mimetype": "text/x-python",
   "name": "python",
   "nbconvert_exporter": "python",
   "pygments_lexer": "ipython3",
   "version": "3.6.3"
  }
 },
 "nbformat": 4,
 "nbformat_minor": 2
}
